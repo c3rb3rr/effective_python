{
 "cells": [
  {
   "cell_type": "markdown",
   "metadata": {},
   "source": [
    "# Lab 07"
   ]
  },
  {
   "cell_type": "markdown",
   "metadata": {},
   "source": [
    "## Zadanie 1"
   ]
  },
  {
   "cell_type": "markdown",
   "metadata": {},
   "source": [
    "Przygotuj demo programu znajdującego miejsca zerowe metodą Newtona. Wykorzystując `argparse` ([link](https://docs.python.org/3.6/library/argparse.html#module-argparse)) lub `optparse` ([link](https://docs.python.org/3.6/library/optparse.html)) obsłuż:\n",
    "- ustalane punktu startowego,\n",
    "- wielkość kroku w pochodnej,\n",
    "- ilość kroków metody,\n",
    "- dokładność\n",
    "- pomoc\n",
    "\n",
    "Program uruchamiamy podając, np.:"
   ]
  },
  {
   "cell_type": "markdown",
   "metadata": {},
   "source": [
    "`./newton.py x**2+x+1 -h 0.00001`\n",
    "# Testowałem '2*x**3+2*x**2-3*x+3 -starting_point 0 -number_of_steps 100000000 -accuracy 0.001 -step_size 0.5'\n",
    "\n",
    "Starting point: 0\n",
    "Number of steps: 100000000\n",
    "Accuracy: 0.001\n",
    "Step size: 0.5\n",
    "Function: 2*x**3+2*x**2-3*x+3\n",
    "Derivative: 6*x**2 + 4*x - 3\n",
    "Close enough\n",
    "-2.073288442063619\n",
    "Execution time: 6.7862067222595215 seconds"
   ]
  },
  {
   "cell_type": "markdown",
   "metadata": {},
   "source": [
    "## Zadanie 2"
   ]
  },
  {
   "cell_type": "markdown",
   "metadata": {},
   "source": [
    "Zadanie należy wykonać wykorzystując program `BagOfWords` z poprzednich zajęć.\n",
    "\n",
    "\n",
    "Przerób ją tak, żeby interpunkcja, cyfry i wszelkie inne znaki nie przeszkadzały w parsowaniu tekstu. Uruchom ja na [tekście hamleta](http://www.gutenberg.org/cache/epub/1787/pg1787.txt). Ile razy występuje słowo hamlet? Jak brzmi 10 najczęściej występujących słów?"
   ]
  },
  {
   "cell_type": "code",
   "execution_count": 5,
   "outputs": [
    {
     "name": "stdout",
     "output_type": "stream",
     "text": [
      "the : 970\n",
      "and : 719\n",
      "of : 671\n",
      "to : 642\n",
      "I : 552\n",
      "you : 503\n",
      "a : 478\n",
      "my : 444\n",
      "in : 404\n",
      "it : 366\n",
      "\n",
      "Key: [Hamlet] occurs: 107 times.\n"
     ]
    }
   ],
   "source": [
    "from collections import defaultdict\n",
    "import string\n",
    "import re\n",
    "\n",
    "\n",
    "class BagOfWords:\n",
    "    def __init__(self, initializer=None):\n",
    "        self.dict = defaultdict(lambda: 0)\n",
    "        if isinstance(initializer, str):\n",
    "            for word in initializer.split():\n",
    "                word = word.translate(str.maketrans('', '', string.punctuation))\n",
    "                word = re.sub(r'[0-9]', '', word)\n",
    "                self.dict[word] += 1\n",
    "        elif initializer is not None:\n",
    "            for line in initializer:\n",
    "                line = line.translate(str.maketrans('', '', string.punctuation))\n",
    "                line = re.sub(r'[0-9]', '', line)\n",
    "                for word in line.split():\n",
    "                    self.dict[word] += 1\n",
    "\n",
    "    def top_ten(self):\n",
    "        keys = sorted(self.dict, key=self.dict.get, reverse=True)[:10]\n",
    "        for _ in keys:\n",
    "            print(_ + ' : ' + str(self.dict[_]))\n",
    "\n",
    "    def number_of_occurrences(self, key):\n",
    "        if key in self.dict:\n",
    "            print('Key: [' + key + '] occurs: ' + str(self.dict[key]) + ' times.')\n",
    "        else:\n",
    "            print('Does not exist')\n",
    "\n",
    "    def __getitem__(self, item):\n",
    "        return self.dict[item]\n",
    "\n",
    "    def __setitem__(self, key, value):\n",
    "        self.dict[key] = value\n",
    "\n",
    "    def __add__(self, other):\n",
    "        new_bag = BagOfWords()\n",
    "        for k in other:\n",
    "            new_bag[k] += other[k]\n",
    "        for k, v in self.dict.items():\n",
    "            new_bag[k] += v\n",
    "        return new_bag\n",
    "\n",
    "    def __iter__(self):\n",
    "        words = defaultdict(lambda: set())\n",
    "        for k, v in self.dict.items():\n",
    "            words[v].add(k)\n",
    "        for count in reversed(sorted(words.keys())):\n",
    "            for word in words[count]:\n",
    "                yield word\n",
    "        return\n",
    "\n",
    "    def __repr__(self):\n",
    "        return ', '.join([f'{key}:{self[key]}' for key in self])\n",
    "\n",
    "bow1 = BagOfWords(open('hamlet.txt'))\n",
    "# print(bow1)\n",
    "bow1.top_ten()\n",
    "print()\n",
    "bow1.number_of_occurrences('Hamlet')"
   ],
   "metadata": {
    "collapsed": false
   }
  },
  {
   "cell_type": "markdown",
   "metadata": {},
   "source": [
    "## Zadanie 3"
   ]
  },
  {
   "cell_type": "markdown",
   "metadata": {},
   "source": [
    "Wykorzystując `pickle` zapisz i odczytaj klasy z poprzedniego zadania nakarmonej Hamletem. Porównaj metody i rozmiar."
   ]
  },
  {
   "cell_type": "code",
   "execution_count": 2,
   "outputs": [
    {
     "name": "stdout",
     "output_type": "stream",
     "text": [
      "True\n"
     ]
    }
   ],
   "source": [
    "import pickle\n",
    "\n",
    "pickled = pickle.dumps(BagOfWords)\n",
    "unpickled = pickle.loads(pickled)\n",
    "\n",
    "print(BagOfWords == unpickled)"
   ],
   "metadata": {
    "collapsed": false
   }
  },
  {
   "cell_type": "markdown",
   "metadata": {},
   "source": [
    "## Zadanie 4"
   ]
  },
  {
   "cell_type": "markdown",
   "metadata": {},
   "source": [
    "Wykorzystując [https://gist.github.com/pamelafox/986163](https://gist.github.com/pamelafox/986163) podaj aktualną godzinę we:\n",
    "- wszystkich krajach, wyświetlając je zgrupowane względem kontynentów,\n",
    "- przeprowadź symulacyjne wyświetlanie kolejnych krajów w miarę jak w danym kraju wybija północ, opóżnienie wyświetlania ustaw proporcjonalne do realnego czasu"
   ]
  },
  {
   "cell_type": "code",
   "execution_count": 70,
   "outputs": [],
   "source": [],
   "metadata": {
    "collapsed": false
   }
  },
  {
   "cell_type": "markdown",
   "metadata": {},
   "source": [
    "## Zadanie 5"
   ]
  },
  {
   "cell_type": "markdown",
   "metadata": {},
   "source": [
    "Dla klasy `BagOfWords` napisz metody `save` oraz `load` wykorzystujące `json`'a do zapisu i odczytu danych."
   ]
  },
  {
   "cell_type": "code",
   "execution_count": 4,
   "outputs": [],
   "source": [
    "from collections import defaultdict\n",
    "import string\n",
    "import json\n",
    "\n",
    "\n",
    "class BagOfWords:\n",
    "    def __init__(self, initializer=None):\n",
    "        self.dict = defaultdict(lambda: 0)\n",
    "        if isinstance(initializer, str):\n",
    "            for word in initializer.split():\n",
    "                word = word.translate(str.maketrans('', '', string.punctuation))\n",
    "                word = re.sub(r'[0-9]', '', word)\n",
    "                self.dict[word] += 1\n",
    "        elif initializer is not None:\n",
    "            for line in initializer:\n",
    "                line = line.translate(str.maketrans('', '', string.punctuation))\n",
    "                line = re.sub(r'[0-9]', '', line)\n",
    "                for word in line.split():\n",
    "                    self.dict[word] += 1\n",
    "\n",
    "#####\n",
    "    def save(self, filename):\n",
    "        with open(filename, 'w') as file_in:\n",
    "            json.dump(self.dict, file_in)\n",
    "\n",
    "    def load(self, filename):\n",
    "        with open(filename, 'r') as file_out:\n",
    "            self.dict = json.load(file_out)\n",
    "#####\n",
    "\n",
    "    def top_ten(self):\n",
    "        keys = sorted(self.dict, key=self.dict.get, reverse=True)[:10]\n",
    "        for _ in keys:\n",
    "            print(_ + ' : ' + str(self.dict[_]))\n",
    "\n",
    "    def number_of_occurrences(self, key):\n",
    "        if key in self.dict:\n",
    "            print('Key: [' + key + '] occurs: ' + str(self.dict[key]) + ' times.')\n",
    "        else:\n",
    "            print('Does not exist')\n",
    "\n",
    "    def __getitem__(self, item):\n",
    "        return self.dict[item]\n",
    "\n",
    "    def __setitem__(self, key, value):\n",
    "        self.dict[key] = value\n",
    "\n",
    "    def __add__(self, other):\n",
    "        new_bag = BagOfWords()\n",
    "        for k in other:\n",
    "            new_bag[k] += other[k]\n",
    "        for k, v in self.dict.items():\n",
    "            new_bag[k] += v\n",
    "        return new_bag\n",
    "\n",
    "    def __iter__(self):\n",
    "        words = defaultdict(lambda: set())\n",
    "        for k, v in self.dict.items():\n",
    "            words[v].add(k)\n",
    "        for count in reversed(sorted(words.keys())):\n",
    "            for word in words[count]:\n",
    "                yield word\n",
    "        return\n",
    "\n",
    "    def __repr__(self):\n",
    "        return ', '.join([f'{key}:{self[key]}' for key in self])"
   ],
   "metadata": {
    "collapsed": false
   }
  },
  {
   "cell_type": "code",
   "execution_count": null,
   "outputs": [],
   "source": [],
   "metadata": {
    "collapsed": false
   }
  }
 ],
 "metadata": {
  "kernelspec": {
   "display_name": "Python 3",
   "language": "python",
   "name": "python3"
  },
  "language_info": {
   "codemirror_mode": {
    "name": "ipython",
    "version": 3
   },
   "file_extension": ".py",
   "mimetype": "text/x-python",
   "name": "python",
   "nbconvert_exporter": "python",
   "pygments_lexer": "ipython3",
   "version": "3.7.9"
  }
 },
 "nbformat": 4,
 "nbformat_minor": 2
}
